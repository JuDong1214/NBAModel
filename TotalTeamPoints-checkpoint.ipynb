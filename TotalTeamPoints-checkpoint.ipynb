{
 "cells": [
  {
   "cell_type": "code",
   "execution_count": 2,
   "id": "4cdc67ab",
   "metadata": {},
   "outputs": [
    {
     "name": "stdout",
     "output_type": "stream",
     "text": [
      "Requirement already satisfied: selenium in c:\\users\\judon\\anaconda3\\lib\\site-packages (4.1.2)\n",
      "Requirement already satisfied: trio-websocket~=0.9 in c:\\users\\judon\\anaconda3\\lib\\site-packages (from selenium) (0.9.2)\n",
      "Requirement already satisfied: urllib3[secure,socks]~=1.26 in c:\\users\\judon\\anaconda3\\lib\\site-packages (from selenium) (1.26.7)\n",
      "Requirement already satisfied: trio~=0.17 in c:\\users\\judon\\anaconda3\\lib\\site-packages (from selenium) (0.20.0)\n",
      "Requirement already satisfied: idna in c:\\users\\judon\\anaconda3\\lib\\site-packages (from trio~=0.17->selenium) (3.2)\n",
      "Requirement already satisfied: async-generator>=1.9 in c:\\users\\judon\\anaconda3\\lib\\site-packages (from trio~=0.17->selenium) (1.10)\n",
      "Requirement already satisfied: attrs>=19.2.0 in c:\\users\\judon\\anaconda3\\lib\\site-packages (from trio~=0.17->selenium) (21.2.0)\n",
      "Requirement already satisfied: sortedcontainers in c:\\users\\judon\\anaconda3\\lib\\site-packages (from trio~=0.17->selenium) (2.4.0)\n",
      "Requirement already satisfied: cffi>=1.14 in c:\\users\\judon\\anaconda3\\lib\\site-packages (from trio~=0.17->selenium) (1.14.6)\n",
      "Requirement already satisfied: outcome in c:\\users\\judon\\anaconda3\\lib\\site-packages (from trio~=0.17->selenium) (1.1.0)\n",
      "Requirement already satisfied: sniffio in c:\\users\\judon\\anaconda3\\lib\\site-packages (from trio~=0.17->selenium) (1.2.0)\n",
      "Requirement already satisfied: pycparser in c:\\users\\judon\\anaconda3\\lib\\site-packages (from cffi>=1.14->trio~=0.17->selenium) (2.20)\n",
      "Requirement already satisfied: wsproto>=0.14 in c:\\users\\judon\\anaconda3\\lib\\site-packages (from trio-websocket~=0.9->selenium) (1.1.0)\n",
      "Requirement already satisfied: pyOpenSSL>=0.14 in c:\\users\\judon\\anaconda3\\lib\\site-packages (from urllib3[secure,socks]~=1.26->selenium) (21.0.0)\n",
      "Requirement already satisfied: cryptography>=1.3.4 in c:\\users\\judon\\anaconda3\\lib\\site-packages (from urllib3[secure,socks]~=1.26->selenium) (3.4.8)\n",
      "Requirement already satisfied: certifi in c:\\users\\judon\\anaconda3\\lib\\site-packages (from urllib3[secure,socks]~=1.26->selenium) (2021.10.8)\n",
      "Requirement already satisfied: PySocks!=1.5.7,<2.0,>=1.5.6 in c:\\users\\judon\\anaconda3\\lib\\site-packages (from urllib3[secure,socks]~=1.26->selenium) (1.7.1)\n",
      "Requirement already satisfied: six>=1.5.2 in c:\\users\\judon\\anaconda3\\lib\\site-packages (from pyOpenSSL>=0.14->urllib3[secure,socks]~=1.26->selenium) (1.16.0)\n",
      "Requirement already satisfied: h11<1,>=0.9.0 in c:\\users\\judon\\anaconda3\\lib\\site-packages (from wsproto>=0.14->trio-websocket~=0.9->selenium) (0.13.0)\n",
      "Requirement already satisfied: bs4 in c:\\users\\judon\\anaconda3\\lib\\site-packages (0.0.1)\n",
      "Requirement already satisfied: beautifulsoup4 in c:\\users\\judon\\anaconda3\\lib\\site-packages (from bs4) (4.10.0)\n",
      "Requirement already satisfied: soupsieve>1.2 in c:\\users\\judon\\anaconda3\\lib\\site-packages (from beautifulsoup4->bs4) (2.2.1)\n",
      "Requirement already satisfied: pandas in c:\\users\\judon\\anaconda3\\lib\\site-packages (1.3.4)\n",
      "Requirement already satisfied: pytz>=2017.3 in c:\\users\\judon\\anaconda3\\lib\\site-packages (from pandas) (2021.3)\n",
      "Requirement already satisfied: python-dateutil>=2.7.3 in c:\\users\\judon\\anaconda3\\lib\\site-packages (from pandas) (2.8.2)\n",
      "Requirement already satisfied: numpy>=1.17.3 in c:\\users\\judon\\anaconda3\\lib\\site-packages (from pandas) (1.20.3)\n",
      "Requirement already satisfied: six>=1.5 in c:\\users\\judon\\anaconda3\\lib\\site-packages (from python-dateutil>=2.7.3->pandas) (1.16.0)\n"
     ]
    }
   ],
   "source": [
    "! pip install selenium\n",
    "! pip install bs4\n",
    "! pip install pandas"
   ]
  },
  {
   "cell_type": "code",
   "execution_count": 74,
   "id": "4953e804",
   "metadata": {},
   "outputs": [
    {
     "name": "stdout",
     "output_type": "stream",
     "text": [
      "Implicit Wait Example\n",
      "Implicit Wait Example\n"
     ]
    }
   ],
   "source": [
    "import time\n",
    "from selenium import webdriver\n",
    "from selenium.webdriver.support.ui import Select\n",
    "from bs4 import BeautifulSoup\n",
    "import pandas as pd\n",
    "\n",
    "#Home All Games\n",
    "driver = webdriver.Firefox()\n",
    "url = r\"https://www.nba.com/stats/teams/advanced/?sort=W&dir=-1&Season=2021-22&SeasonType=Regular%20Season&Location=Home\"\n",
    "driver.get(url)\n",
    "print(\"Implicit Wait Example\")\n",
    "time.sleep(4)\n",
    "\n",
    "src = driver.page_source\n",
    "parser = BeautifulSoup(src, \"lxml\")\n",
    "table = parser.find(\"div\", attrs = {\"class\": \"nba-stat-table__overflow\"})\n",
    "headers= table.findAll('th')\n",
    "headerlist = [h.text.strip() for h in headers[1:]]\n",
    "   \n",
    "headerlist1 = [a for a in headerlist if not 'RANK' in a]\n",
    "rows = table.findAll('tr')[1:]\n",
    "player_stats = [[td.getText().strip() for td in rows[i].findAll('td')[1:]] for i in range(len(rows))]\n",
    "pd.set_option('max_columns', None)\n",
    "stats = pd.DataFrame(player_stats, columns=headerlist1)\n",
    "\n",
    "\n",
    "\n",
    "\n",
    "#Away All Games\n",
    "url = r\"https://www.nba.com/stats/teams/advanced/?sort=DEF_RATING&dir=-1&Season=2021-22&SeasonType=Regular%20Season&Location=Road\"\n",
    "driver.get(url)\n",
    "print(\"Implicit Wait Example\")\n",
    "time.sleep(4)\n",
    "\n",
    "src = driver.page_source\n",
    "parser = BeautifulSoup(src, \"lxml\")\n",
    "table = parser.find(\"div\", attrs = {\"class\": \"nba-stat-table__overflow\"})\n",
    "   \n",
    "rows = table.findAll('tr')[1:]\n",
    "player_stats2 = [[td.getText().strip() for td in rows[i].findAll('td')[1:]] for i in range(len(rows))]\n",
    "pd.set_option('max_columns', None)\n",
    "stats2 = pd.DataFrame(player_stats2, columns=headerlist1)"
   ]
  },
  {
   "cell_type": "code",
   "execution_count": 75,
   "id": "d3137743",
   "metadata": {},
   "outputs": [
    {
     "name": "stdout",
     "output_type": "stream",
     "text": [
      "Implicit Wait Example\n",
      "Implicit Wait Example\n"
     ]
    }
   ],
   "source": [
    "import time\n",
    "from selenium import webdriver\n",
    "from selenium.webdriver.support.ui import Select\n",
    "from bs4 import BeautifulSoup\n",
    "import pandas as pd\n",
    "\n",
    "driver = webdriver.Firefox()\n",
    "#Home Last 10 Games\n",
    "url = r\"https://www.nba.com/stats/teams/advanced/?sort=W&dir=-1&Season=2021-22&SeasonType=Regular%20Season&Location=Home&LastNGames=10\"\n",
    "driver.get(url)\n",
    "print(\"Implicit Wait Example\")\n",
    "time.sleep(4)\n",
    "\n",
    "src = driver.page_source\n",
    "parser = BeautifulSoup(src, \"lxml\")\n",
    "table = parser.find(\"div\", attrs = {\"class\": \"nba-stat-table__overflow\"})\n",
    "   \n",
    "rows = table.findAll('tr')[1:]\n",
    "player_stats3 = [[td.getText().strip() for td in rows[i].findAll('td')[1:]] for i in range(len(rows))]\n",
    "pd.set_option('max_columns', None)\n",
    "stats3 = pd.DataFrame(player_stats3, columns=headerlist1)\n",
    "\n",
    "\n",
    "\n",
    "\n",
    "\n",
    "#Road Last 10 Games\n",
    "url = r\"https://www.nba.com/stats/teams/advanced/?sort=W&dir=-1&Season=2021-22&SeasonType=Regular%20Season&Location=Road&LastNGames=10\"\n",
    "driver.get(url)\n",
    "print(\"Implicit Wait Example\")\n",
    "time.sleep(4)\n",
    "\n",
    "src = driver.page_source\n",
    "parser = BeautifulSoup(src, \"lxml\")\n",
    "table = parser.find(\"div\", attrs = {\"class\": \"nba-stat-table__overflow\"})\n",
    "   \n",
    "rows = table.findAll('tr')[1:]\n",
    "player_stats4 = [[td.getText().strip() for td in rows[i].findAll('td')[1:]] for i in range(len(rows))]\n",
    "pd.set_option('max_columns', None)\n",
    "stats4 = pd.DataFrame(player_stats4, columns=headerlist1)"
   ]
  },
  {
   "cell_type": "code",
   "execution_count": 83,
   "id": "f54e9bdd",
   "metadata": {},
   "outputs": [
    {
     "name": "stdout",
     "output_type": "stream",
     "text": [
      "Implicit Wait Example\n"
     ]
    }
   ],
   "source": [
    "#TeamVSTeam Pace\n",
    "driver = webdriver.Firefox()\n",
    "url = r\"https://www.nba.com/stats/teams/advanced/?sort=W&dir=-1&Season=2021-22&SeasonType=Regular%20Season&OpponentTeamID=1610612766&TeamID=1610612739\"\n",
    "driver.get(url)\n",
    "print(\"Implicit Wait Example\")\n",
    "time.sleep(4)\n",
    "\n",
    "src = driver.page_source\n",
    "parser = BeautifulSoup(src, \"lxml\")\n",
    "table = parser.find(\"div\", attrs = {\"class\": \"nba-stat-table__overflow\"})\n",
    "   \n",
    "rows = table.findAll('tr')[1:]\n",
    "player_stats5 = [[td.getText().strip() for td in rows[i].findAll('td')[1:]] for i in range(len(rows))]\n",
    "pd.set_option('max_columns', None)\n",
    "stats5 = pd.DataFrame(player_stats5, columns=headerlist1)"
   ]
  },
  {
   "cell_type": "code",
   "execution_count": 84,
   "id": "0e06d7e0",
   "metadata": {
    "scrolled": false
   },
   "outputs": [
    {
     "data": {
      "text/html": [
       "<div>\n",
       "<style scoped>\n",
       "    .dataframe tbody tr th:only-of-type {\n",
       "        vertical-align: middle;\n",
       "    }\n",
       "\n",
       "    .dataframe tbody tr th {\n",
       "        vertical-align: top;\n",
       "    }\n",
       "\n",
       "    .dataframe thead th {\n",
       "        text-align: right;\n",
       "    }\n",
       "</style>\n",
       "<table border=\"1\" class=\"dataframe\">\n",
       "  <thead>\n",
       "    <tr style=\"text-align: right;\">\n",
       "      <th></th>\n",
       "      <th>TEAM</th>\n",
       "      <th>GP</th>\n",
       "      <th>W</th>\n",
       "      <th>L</th>\n",
       "      <th>MIN</th>\n",
       "      <th>OffRtg</th>\n",
       "      <th>DefRtg</th>\n",
       "      <th>NetRtg</th>\n",
       "      <th>AST%</th>\n",
       "      <th>AST/TO</th>\n",
       "      <th>ASTRatio</th>\n",
       "      <th>OREB%</th>\n",
       "      <th>DREB%</th>\n",
       "      <th>REB%</th>\n",
       "      <th>TOV%</th>\n",
       "      <th>eFG%</th>\n",
       "      <th>TS%</th>\n",
       "      <th>PACE</th>\n",
       "      <th>PIE</th>\n",
       "      <th>POSS</th>\n",
       "    </tr>\n",
       "  </thead>\n",
       "  <tbody>\n",
       "    <tr>\n",
       "      <th>0</th>\n",
       "      <td>Cleveland Cavaliers</td>\n",
       "      <td>3</td>\n",
       "      <td>2</td>\n",
       "      <td>1</td>\n",
       "      <td>144.0</td>\n",
       "      <td>108.3</td>\n",
       "      <td>111.3</td>\n",
       "      <td>-3.1</td>\n",
       "      <td>61.9</td>\n",
       "      <td>1.55</td>\n",
       "      <td>17.3</td>\n",
       "      <td>32.7</td>\n",
       "      <td>65.2</td>\n",
       "      <td>49.2</td>\n",
       "      <td>15.6</td>\n",
       "      <td>50.8</td>\n",
       "      <td>54.8</td>\n",
       "      <td>100.33</td>\n",
       "      <td>48.6</td>\n",
       "      <td>302</td>\n",
       "    </tr>\n",
       "  </tbody>\n",
       "</table>\n",
       "</div>"
      ],
      "text/plain": [
       "                  TEAM GP  W  L    MIN OffRtg DefRtg NetRtg  AST% AST/TO  \\\n",
       "0  Cleveland Cavaliers  3  2  1  144.0  108.3  111.3   -3.1  61.9   1.55   \n",
       "\n",
       "  ASTRatio OREB% DREB%  REB%  TOV%  eFG%   TS%    PACE   PIE POSS  \n",
       "0     17.3  32.7  65.2  49.2  15.6  50.8  54.8  100.33  48.6  302  "
      ]
     },
     "execution_count": 84,
     "metadata": {},
     "output_type": "execute_result"
    }
   ],
   "source": [
    "stats5"
   ]
  },
  {
   "cell_type": "code",
   "execution_count": 87,
   "id": "ad8befd3",
   "metadata": {
    "scrolled": true
   },
   "outputs": [
    {
     "ename": "KeyError",
     "evalue": "\"None of ['TEAM'] are in the columns\"",
     "output_type": "error",
     "traceback": [
      "\u001b[1;31m---------------------------------------------------------------------------\u001b[0m",
      "\u001b[1;31mKeyError\u001b[0m                                  Traceback (most recent call last)",
      "\u001b[1;32m~\\AppData\\Local\\Temp/ipykernel_31044/2146284855.py\u001b[0m in \u001b[0;36m<module>\u001b[1;34m\u001b[0m\n\u001b[0;32m      1\u001b[0m \u001b[0mstats5\u001b[0m\u001b[1;33m.\u001b[0m\u001b[0mset_index\u001b[0m\u001b[1;33m(\u001b[0m\u001b[1;34m\"TEAM\"\u001b[0m\u001b[1;33m,\u001b[0m \u001b[0minplace\u001b[0m \u001b[1;33m=\u001b[0m \u001b[1;32mTrue\u001b[0m\u001b[1;33m)\u001b[0m\u001b[1;33m\u001b[0m\u001b[1;33m\u001b[0m\u001b[0m\n\u001b[1;32m----> 2\u001b[1;33m \u001b[0mstats\u001b[0m\u001b[1;33m.\u001b[0m\u001b[0mset_index\u001b[0m\u001b[1;33m(\u001b[0m\u001b[1;34m\"TEAM\"\u001b[0m\u001b[1;33m,\u001b[0m \u001b[0minplace\u001b[0m \u001b[1;33m=\u001b[0m \u001b[1;32mTrue\u001b[0m\u001b[1;33m)\u001b[0m\u001b[1;33m\u001b[0m\u001b[1;33m\u001b[0m\u001b[0m\n\u001b[0m\u001b[0;32m      3\u001b[0m \u001b[0mstats2\u001b[0m\u001b[1;33m.\u001b[0m\u001b[0mset_index\u001b[0m\u001b[1;33m(\u001b[0m\u001b[1;34m\"TEAM\"\u001b[0m\u001b[1;33m,\u001b[0m \u001b[0minplace\u001b[0m \u001b[1;33m=\u001b[0m \u001b[1;32mTrue\u001b[0m\u001b[1;33m)\u001b[0m\u001b[1;33m\u001b[0m\u001b[1;33m\u001b[0m\u001b[0m\n\u001b[0;32m      4\u001b[0m \u001b[0mstats3\u001b[0m\u001b[1;33m.\u001b[0m\u001b[0mset_index\u001b[0m\u001b[1;33m(\u001b[0m\u001b[1;34m\"TEAM\"\u001b[0m\u001b[1;33m,\u001b[0m \u001b[0minplace\u001b[0m \u001b[1;33m=\u001b[0m \u001b[1;32mTrue\u001b[0m\u001b[1;33m)\u001b[0m\u001b[1;33m\u001b[0m\u001b[1;33m\u001b[0m\u001b[0m\n\u001b[0;32m      5\u001b[0m \u001b[0mstats4\u001b[0m\u001b[1;33m.\u001b[0m\u001b[0mset_index\u001b[0m\u001b[1;33m(\u001b[0m\u001b[1;34m\"TEAM\"\u001b[0m\u001b[1;33m,\u001b[0m \u001b[0minplace\u001b[0m \u001b[1;33m=\u001b[0m \u001b[1;32mTrue\u001b[0m\u001b[1;33m)\u001b[0m\u001b[1;33m\u001b[0m\u001b[1;33m\u001b[0m\u001b[0m\n",
      "\u001b[1;32m~\\anaconda3\\lib\\site-packages\\pandas\\util\\_decorators.py\u001b[0m in \u001b[0;36mwrapper\u001b[1;34m(*args, **kwargs)\u001b[0m\n\u001b[0;32m    309\u001b[0m                     \u001b[0mstacklevel\u001b[0m\u001b[1;33m=\u001b[0m\u001b[0mstacklevel\u001b[0m\u001b[1;33m,\u001b[0m\u001b[1;33m\u001b[0m\u001b[1;33m\u001b[0m\u001b[0m\n\u001b[0;32m    310\u001b[0m                 )\n\u001b[1;32m--> 311\u001b[1;33m             \u001b[1;32mreturn\u001b[0m \u001b[0mfunc\u001b[0m\u001b[1;33m(\u001b[0m\u001b[1;33m*\u001b[0m\u001b[0margs\u001b[0m\u001b[1;33m,\u001b[0m \u001b[1;33m**\u001b[0m\u001b[0mkwargs\u001b[0m\u001b[1;33m)\u001b[0m\u001b[1;33m\u001b[0m\u001b[1;33m\u001b[0m\u001b[0m\n\u001b[0m\u001b[0;32m    312\u001b[0m \u001b[1;33m\u001b[0m\u001b[0m\n\u001b[0;32m    313\u001b[0m         \u001b[1;32mreturn\u001b[0m \u001b[0mwrapper\u001b[0m\u001b[1;33m\u001b[0m\u001b[1;33m\u001b[0m\u001b[0m\n",
      "\u001b[1;32m~\\anaconda3\\lib\\site-packages\\pandas\\core\\frame.py\u001b[0m in \u001b[0;36mset_index\u001b[1;34m(self, keys, drop, append, inplace, verify_integrity)\u001b[0m\n\u001b[0;32m   5449\u001b[0m \u001b[1;33m\u001b[0m\u001b[0m\n\u001b[0;32m   5450\u001b[0m         \u001b[1;32mif\u001b[0m \u001b[0mmissing\u001b[0m\u001b[1;33m:\u001b[0m\u001b[1;33m\u001b[0m\u001b[1;33m\u001b[0m\u001b[0m\n\u001b[1;32m-> 5451\u001b[1;33m             \u001b[1;32mraise\u001b[0m \u001b[0mKeyError\u001b[0m\u001b[1;33m(\u001b[0m\u001b[1;34mf\"None of {missing} are in the columns\"\u001b[0m\u001b[1;33m)\u001b[0m\u001b[1;33m\u001b[0m\u001b[1;33m\u001b[0m\u001b[0m\n\u001b[0m\u001b[0;32m   5452\u001b[0m \u001b[1;33m\u001b[0m\u001b[0m\n\u001b[0;32m   5453\u001b[0m         \u001b[1;32mif\u001b[0m \u001b[0minplace\u001b[0m\u001b[1;33m:\u001b[0m\u001b[1;33m\u001b[0m\u001b[1;33m\u001b[0m\u001b[0m\n",
      "\u001b[1;31mKeyError\u001b[0m: \"None of ['TEAM'] are in the columns\""
     ]
    }
   ],
   "source": [
    "stats5.set_index(\"TEAM\", inplace = True)\n",
    "stats.set_index(\"TEAM\", inplace = True)\n",
    "stats2.set_index(\"TEAM\", inplace = True)\n",
    "stats3.set_index(\"TEAM\", inplace = True)\n",
    "stats4.set_index(\"TEAM\", inplace = True)\n"
   ]
  },
  {
   "cell_type": "code",
   "execution_count": 141,
   "id": "243f2ef1",
   "metadata": {
    "scrolled": true
   },
   "outputs": [
    {
     "name": "stdout",
     "output_type": "stream",
     "text": [
      "Cavs Total\n",
      "109.77907250000001\n",
      "Hornets Total\n",
      "108.27829999999999\n",
      "Total =\n",
      "218.05737249999999\n",
      "Under 219\n",
      "Actual: 217\n"
     ]
    }
   ],
   "source": [
    "HomeSZNhORTG = float(stats.loc['Cleveland Cavaliers']['OffRtg'])\n",
    "HomeSZNaDRTG = float(stats2.loc['Charlotte Hornets']['DefRtg'])\n",
    "HomeSZNhPace = float(stats.loc['Cleveland Cavaliers']['PACE'])\n",
    "HomeLast10hORTG = float(stats3.loc['Cleveland Cavaliers']['OffRtg'])\n",
    "HomeLast10aDRTG = float(stats4.loc['Charlotte Hornets']['DefRtg'])\n",
    "h2hPace = float(stats5.loc['Cleveland Cavaliers']['PACE'])\n",
    "print('Cavs Total')\n",
    "cavsTotal = ((((HomeSZNhORTG + HomeSZNaDRTG)/200)*HomeSZNhPace)+(((HomeLast10hORTG + HomeLast10aDRTG)/200)*h2hPace))/2\n",
    "print(cavsTotal)\n",
    "\n",
    "AwaySZNaORTG = float(stats2.loc['Charlotte Hornets']['OffRtg'])\n",
    "AwaySZNhDRTG = float(stats.loc['Cleveland Cavaliers']['DefRtg'])\n",
    "AwaySZNaPace = float(stats2.loc['Charlotte Hornets']['PACE'])\n",
    "AwayLast10aORTG = float(stats4.loc['Charlotte Hornets']['OffRtg'])\n",
    "AwayLast10hDRTG = float(stats3.loc['Cleveland Cavaliers']['DefRtg'])\n",
    "h2hPace = float(stats5.loc['Cleveland Cavaliers']['PACE'])\n",
    "print('Hornets Total')\n",
    "hornetsTotal = ((((AwaySZNaORTG + AwaySZNhDRTG)/200)*AwaySZNaPace)+(((AwayLast10aORTG + AwayLast10hDRTG)/200)*h2hPace))/2\n",
    "print(hornetsTotal)\n",
    "Total = cavsTotal + hornetsTotal\n",
    "print('Total =')\n",
    "print(Total)\n",
    "print('Under 219')\n",
    "print('Actual: 217')"
   ]
  },
  {
   "cell_type": "code",
   "execution_count": 95,
   "id": "852e84b4",
   "metadata": {},
   "outputs": [
    {
     "name": "stdout",
     "output_type": "stream",
     "text": [
      "Implicit Wait Example\n"
     ]
    }
   ],
   "source": [
    "#Pacers vs Magic\n",
    "driver = webdriver.Firefox()\n",
    "url = r\"https://www.nba.com/stats/teams/advanced/?sort=W&dir=-1&Season=2021-22&SeasonType=Regular%20Season&OpponentTeamID=1610612754&TeamID=1610612753\"\n",
    "driver.get(url)\n",
    "print(\"Implicit Wait Example\")\n",
    "time.sleep(4)\n",
    "\n",
    "src = driver.page_source\n",
    "parser = BeautifulSoup(src, \"lxml\")\n",
    "table = parser.find(\"div\", attrs = {\"class\": \"nba-stat-table__overflow\"})\n",
    "   \n",
    "rows = table.findAll('tr')[1:]\n",
    "player_statsPvM = [[td.getText().strip() for td in rows[i].findAll('td')[1:]] for i in range(len(rows))]\n",
    "pd.set_option('max_columns', None)\n",
    "statsPvM = pd.DataFrame(player_statsPvM, columns=headerlist1)"
   ]
  },
  {
   "cell_type": "code",
   "execution_count": null,
   "id": "ec8d2b4e",
   "metadata": {},
   "outputs": [],
   "source": [
    "statsPvM.set_index(\"TEAM\", inplace = True)"
   ]
  },
  {
   "cell_type": "code",
   "execution_count": 109,
   "id": "8af4bf69",
   "metadata": {},
   "outputs": [
    {
     "name": "stdout",
     "output_type": "stream",
     "text": [
      "Magic Total\n",
      "113.07826499999999\n",
      "Pacers Total\n",
      "111.371095\n",
      "Total =\n",
      "224.44935999999998\n",
      "Under 233.5\n"
     ]
    }
   ],
   "source": [
    "HomeSZNhORTG = float(stats.loc['Orlando Magic']['OffRtg'])\n",
    "HomeSZNaDRTG = float(stats2.loc['Indiana Pacers']['DefRtg'])\n",
    "HomeSZNhPace = float(stats.loc['Orlando Magic']['PACE'])\n",
    "HomeLast10hORTG = float(stats3.loc['Orlando Magic']['OffRtg'])\n",
    "HomeLast10aDRTG = float(stats4.loc['Indiana Pacers']['DefRtg'])\n",
    "h2hPacePvM = float(statsPvM.loc['Orlando Magic']['PACE'])\n",
    "print('Magic Total')\n",
    "magicTotal = ((((HomeSZNhORTG + HomeSZNaDRTG)/200)*HomeSZNhPace)+(((HomeLast10hORTG + HomeLast10aDRTG)/200)*h2hPacePvM))/2\n",
    "print(magicTotal)\n",
    "\n",
    "AwaySZNaORTG = float(stats2.loc['Indiana Pacers']['OffRtg'])\n",
    "AwaySZNhDRTG = float(stats.loc['Orlando Magic']['DefRtg'])\n",
    "AwaySZNaPace = float(stats2.loc['Indiana Pacers']['PACE'])\n",
    "AwayLast10aORTG = float(stats4.loc['Indiana Pacers']['OffRtg'])\n",
    "AwayLast10hDRTG = float(stats3.loc['Orlando Magic']['DefRtg'])\n",
    "h2hPacePvM = float(statsPvM.loc['Orlando Magic']['PACE'])\n",
    "print('Pacers Total')\n",
    "pacersTotal = ((((AwaySZNaORTG + AwaySZNhDRTG)/200)*AwaySZNaPace)+(((AwayLast10aORTG + AwayLast10hDRTG)/200)*h2hPacePvM))/2\n",
    "print(pacersTotal)\n",
    "Total2 = magicTotal + pacersTotal\n",
    "print('Total =')\n",
    "print(Total2)\n",
    "print('Under 233.5')\n",
    "print('actual 236, before OT:220 )"
   ]
  },
  {
   "cell_type": "code",
   "execution_count": 114,
   "id": "671bc05c",
   "metadata": {},
   "outputs": [
    {
     "name": "stdout",
     "output_type": "stream",
     "text": [
      "Implicit Wait Example\n"
     ]
    }
   ],
   "source": [
    "#Kings vs Pels\n",
    "driver = webdriver.Firefox()\n",
    "url = r\"https://www.nba.com/stats/teams/advanced/?sort=W&dir=-1&Season=2021-22&SeasonType=Regular%20Season&OpponentTeamID=1610612758&TeamID=1610612740\"\n",
    "driver.get(url)\n",
    "print(\"Implicit Wait Example\")\n",
    "time.sleep(4)\n",
    "\n",
    "src = driver.page_source\n",
    "parser = BeautifulSoup(src, \"lxml\")\n",
    "table = parser.find(\"div\", attrs = {\"class\": \"nba-stat-table__overflow\"})\n",
    "   \n",
    "rows = table.findAll('tr')[1:]\n",
    "player_statsKvP = [[td.getText().strip() for td in rows[i].findAll('td')[1:]] for i in range(len(rows))]\n",
    "pd.set_option('max_columns', None)\n",
    "statsKvP = pd.DataFrame(player_statsKvP, columns=headerlist1)"
   ]
  },
  {
   "cell_type": "code",
   "execution_count": 115,
   "id": "43521e21",
   "metadata": {},
   "outputs": [],
   "source": [
    "statsKvP.set_index(\"TEAM\", inplace = True)"
   ]
  },
  {
   "cell_type": "code",
   "execution_count": 117,
   "id": "074057fc",
   "metadata": {},
   "outputs": [
    {
     "name": "stdout",
     "output_type": "stream",
     "text": [
      "Pels Total\n",
      "111.86568749999999\n",
      "Kings Total\n",
      "111.24244999999999\n",
      "Total =\n",
      "223.1081375\n",
      "Under 233.5\n",
      "Kings +6.5\n"
     ]
    }
   ],
   "source": [
    "HomeSZNhORTG = float(stats.loc['New Orleans Pelicans']['OffRtg'])\n",
    "HomeSZNaDRTG = float(stats2.loc['Sacramento Kings']['DefRtg'])\n",
    "HomeSZNhPace = float(stats.loc['New Orleans Pelicans']['PACE'])\n",
    "HomeLast10hORTG = float(stats3.loc['New Orleans Pelicans']['OffRtg'])\n",
    "HomeLast10aDRTG = float(stats4.loc['Sacramento Kings']['DefRtg'])\n",
    "h2hPaceKvP = float(statsKvP.loc['New Orleans Pelicans']['PACE'])\n",
    "print('Pels Total')\n",
    "pelsTotal = ((((HomeSZNhORTG + HomeSZNaDRTG)/200)*HomeSZNhPace)+(((HomeLast10hORTG + HomeLast10aDRTG)/200)*h2hPaceKvP))/2\n",
    "print(pelsTotal)\n",
    "\n",
    "AwaySZNaORTG = float(stats2.loc['Sacramento Kings']['OffRtg'])\n",
    "AwaySZNhDRTG = float(stats.loc['New Orleans Pelicans']['DefRtg'])\n",
    "AwaySZNaPace = float(stats2.loc['Sacramento Kings']['PACE'])\n",
    "AwayLast10aORTG = float(stats4.loc['Sacramento Kings']['OffRtg'])\n",
    "AwayLast10hDRTG = float(stats3.loc['New Orleans Pelicans']['DefRtg'])\n",
    "h2hPaceKvP = float(statsKvP.loc['New Orleans Pelicans']['PACE'])\n",
    "print('Kings Total')\n",
    "kingsTotal = ((((AwaySZNaORTG + AwaySZNhDRTG)/200)*AwaySZNaPace)+(((AwayLast10aORTG + AwayLast10hDRTG)/200)*h2hPaceKvP))/2\n",
    "print(kingsTotal)\n",
    "Total3 = pelsTotal + kingsTotal\n",
    "print('Total =')\n",
    "print(Total3)\n",
    "print('Under 233.5')\n",
    "print('Kings +6.5')\n",
    "print('actual: 220')"
   ]
  },
  {
   "cell_type": "code",
   "execution_count": 121,
   "id": "08b4e201",
   "metadata": {},
   "outputs": [
    {
     "name": "stdout",
     "output_type": "stream",
     "text": [
      "Implicit Wait Example\n"
     ]
    }
   ],
   "source": [
    "#Heat vs Bucks\n",
    "driver = webdriver.Firefox()\n",
    "url = r\"https://www.nba.com/stats/teams/advanced/?sort=W&dir=-1&Season=2021-22&SeasonType=Regular%20Season&OpponentTeamID=1610612748&TeamID=1610612749\"\n",
    "driver.get(url)\n",
    "print(\"Implicit Wait Example\")\n",
    "time.sleep(4)\n",
    "\n",
    "src = driver.page_source\n",
    "parser = BeautifulSoup(src, \"lxml\")\n",
    "table = parser.find(\"div\", attrs = {\"class\": \"nba-stat-table__overflow\"})\n",
    "   \n",
    "rows = table.findAll('tr')[1:]\n",
    "player_statsHvB = [[td.getText().strip() for td in rows[i].findAll('td')[1:]] for i in range(len(rows))]\n",
    "pd.set_option('max_columns', None)\n",
    "statsHvB = pd.DataFrame(player_statsHvB, columns=headerlist1)"
   ]
  },
  {
   "cell_type": "code",
   "execution_count": 122,
   "id": "e3c0efbd",
   "metadata": {},
   "outputs": [],
   "source": [
    "statsHvB.set_index(\"TEAM\", inplace = True)"
   ]
  },
  {
   "cell_type": "code",
   "execution_count": 125,
   "id": "7a236b6f",
   "metadata": {},
   "outputs": [
    {
     "name": "stdout",
     "output_type": "stream",
     "text": [
      "Bucks Total\n",
      "109.8773425\n",
      "Heat Total\n",
      "110.03241\n",
      "Total =\n",
      "219.9097525\n",
      "Under 224.5\n",
      "Heat +4.5\n"
     ]
    }
   ],
   "source": [
    "HomeSZNhORTG = float(stats.loc['Milwaukee Bucks']['OffRtg'])\n",
    "HomeSZNaDRTG = float(stats2.loc['Miami Heat']['DefRtg'])\n",
    "HomeSZNhPace = float(stats.loc['Milwaukee Bucks']['PACE'])\n",
    "HomeLast10hORTG = float(stats3.loc['Milwaukee Bucks']['OffRtg'])\n",
    "HomeLast10aDRTG = float(stats4.loc['Miami Heat']['DefRtg'])\n",
    "h2hPaceHvB = float(statsHvB.loc['Milwaukee Bucks']['PACE'])\n",
    "print('Bucks Total')\n",
    "bucksTotal = ((((HomeSZNhORTG + HomeSZNaDRTG)/200)*HomeSZNhPace)+(((HomeLast10hORTG + HomeLast10aDRTG)/200)*h2hPaceHvB))/2\n",
    "print(bucksTotal)\n",
    "\n",
    "AwaySZNaORTG = float(stats2.loc['Miami Heat']['OffRtg'])\n",
    "AwaySZNhDRTG = float(stats.loc['Milwaukee Bucks']['DefRtg'])\n",
    "AwaySZNaPace = float(stats2.loc['Miami Heat']['PACE'])\n",
    "AwayLast10aORTG = float(stats4.loc['Miami Heat']['OffRtg'])\n",
    "AwayLast10hDRTG = float(stats3.loc['Milwaukee Bucks']['DefRtg'])\n",
    "h2hPaceHvB = float(statsHvB.loc['Milwaukee Bucks']['PACE'])\n",
    "print('Heat Total')\n",
    "heatTotal = ((((AwaySZNaORTG + AwaySZNhDRTG)/200)*AwaySZNaPace)+(((AwayLast10aORTG + AwayLast10hDRTG)/200)*h2hPaceHvB))/2\n",
    "print(heatTotal)\n",
    "Total4 = bucksTotal + heatTotal\n",
    "print('Total =')\n",
    "print(Total4)\n",
    "print('Under 224.5')\n",
    "print('Heat +4.5')\n",
    "print('Heat +4.5, 239')"
   ]
  },
  {
   "cell_type": "code",
   "execution_count": 126,
   "id": "9437e98c",
   "metadata": {},
   "outputs": [
    {
     "name": "stdout",
     "output_type": "stream",
     "text": [
      "Implicit Wait Example\n"
     ]
    }
   ],
   "source": [
    "#Jazz vs Rockets\n",
    "driver = webdriver.Firefox()\n",
    "url = r\"https://www.nba.com/stats/teams/advanced/?sort=W&dir=-1&Season=2021-22&SeasonType=Regular%20Season&OpponentTeamID=1610612745&TeamID=1610612762\"\n",
    "driver.get(url)\n",
    "print(\"Implicit Wait Example\")\n",
    "time.sleep(4)\n",
    "\n",
    "src = driver.page_source\n",
    "parser = BeautifulSoup(src, \"lxml\")\n",
    "table = parser.find(\"div\", attrs = {\"class\": \"nba-stat-table__overflow\"})\n",
    "   \n",
    "rows = table.findAll('tr')[1:]\n",
    "player_statsJvR = [[td.getText().strip() for td in rows[i].findAll('td')[1:]] for i in range(len(rows))]\n",
    "pd.set_option('max_columns', None)\n",
    "statsJvR = pd.DataFrame(player_statsJvR, columns=headerlist1)"
   ]
  },
  {
   "cell_type": "code",
   "execution_count": 127,
   "id": "6e3fbefd",
   "metadata": {},
   "outputs": [],
   "source": [
    "statsJvR.set_index(\"TEAM\", inplace = True)"
   ]
  },
  {
   "cell_type": "code",
   "execution_count": 135,
   "id": "f70b64c3",
   "metadata": {},
   "outputs": [
    {
     "name": "stdout",
     "output_type": "stream",
     "text": [
      "Rockets Total\n",
      "111.0365725\n",
      "Jazz Total\n",
      "112.991065\n",
      "Total =\n",
      "224.02763750000003\n",
      "Under 228.5\n",
      "Rockets +15\n"
     ]
    }
   ],
   "source": [
    "HomeSZNhORTG = float(stats.loc['Houston Rockets']['OffRtg'])\n",
    "HomeSZNaDRTG = float(stats2.loc['Utah Jazz']['DefRtg'])\n",
    "HomeSZNhPace = float(stats.loc['Houston Rockets']['PACE'])\n",
    "HomeLast10hORTG = float(stats3.loc['Houston Rockets']['OffRtg'])\n",
    "HomeLast10aDRTG = float(stats4.loc['Utah Jazz']['DefRtg'])\n",
    "h2hPaceJvR = float(statsJvR.loc['Utah Jazz']['PACE'])\n",
    "print('Rockets Total')\n",
    "rocketsTotal = ((((HomeSZNhORTG + HomeSZNaDRTG)/200)*HomeSZNhPace)+(((HomeLast10hORTG + HomeLast10aDRTG)/200)*h2hPaceJvR))/2\n",
    "print(rocketsTotal)\n",
    "\n",
    "AwaySZNaORTG = float(stats2.loc['Utah Jazz']['OffRtg'])\n",
    "AwaySZNhDRTG = float(stats.loc['Houston Rockets']['DefRtg'])\n",
    "AwaySZNaPace = float(stats2.loc['Utah Jazz']['PACE'])\n",
    "AwayLast10aORTG = float(stats4.loc['Utah Jazz']['OffRtg'])\n",
    "AwayLast10hDRTG = float(stats3.loc['Houston Rockets']['DefRtg'])\n",
    "h2hPaceJvR = float(statsJvR.loc['Utah Jazz']['PACE'])\n",
    "print('Jazz Total')\n",
    "jazzTotal = ((((AwaySZNaORTG + AwaySZNhDRTG)/200)*AwaySZNaPace)+(((AwayLast10aORTG + AwayLast10hDRTG)/200)*h2hPaceJvR))/2\n",
    "print(jazzTotal)\n",
    "Total5 = rocketsTotal + jazzTotal\n",
    "print('Total =')\n",
    "print(Total5)\n",
    "print('Under 228.5')\n",
    "print('Rockets +15')\n",
    "print('before OT:234 after:259, +15)"
   ]
  },
  {
   "cell_type": "code",
   "execution_count": 133,
   "id": "77437e03",
   "metadata": {},
   "outputs": [
    {
     "name": "stdout",
     "output_type": "stream",
     "text": [
      "Implicit Wait Example\n"
     ]
    }
   ],
   "source": [
    "#Thunder vs Nuggets\n",
    "driver = webdriver.Firefox()\n",
    "url = r\"https://www.nba.com/stats/teams/advanced/?sort=W&dir=-1&Season=2021-22&SeasonType=Regular%20Season&OpponentTeamID=1610612743&TeamID=1610612760\"\n",
    "driver.get(url)\n",
    "print(\"Implicit Wait Example\")\n",
    "time.sleep(4)\n",
    "\n",
    "src = driver.page_source\n",
    "parser = BeautifulSoup(src, \"lxml\")\n",
    "table = parser.find(\"div\", attrs = {\"class\": \"nba-stat-table__overflow\"})\n",
    "   \n",
    "rows = table.findAll('tr')[1:]\n",
    "player_statsTvN = [[td.getText().strip() for td in rows[i].findAll('td')[1:]] for i in range(len(rows))]\n",
    "pd.set_option('max_columns', None)\n",
    "statsTvN = pd.DataFrame(player_statsTvN, columns=headerlist1)"
   ]
  },
  {
   "cell_type": "code",
   "execution_count": 134,
   "id": "fc67a1c0",
   "metadata": {},
   "outputs": [],
   "source": [
    "statsTvN.set_index(\"TEAM\", inplace = True)"
   ]
  },
  {
   "cell_type": "code",
   "execution_count": 143,
   "id": "30af57c6",
   "metadata": {},
   "outputs": [
    {
     "name": "stdout",
     "output_type": "stream",
     "text": [
      "Nuggets Total\n",
      "108.47673750000001\n",
      "Thunder Total\n",
      "102.93847249999999\n",
      "Total =\n",
      "211.41521\n",
      "Under 225.5\n",
      "OKC +15\n",
      "actual 226, +15\n"
     ]
    }
   ],
   "source": [
    "HomeSZNhORTG = float(stats.loc['Denver Nuggets']['OffRtg'])\n",
    "HomeSZNaDRTG = float(stats2.loc['Oklahoma City Thunder']['DefRtg'])\n",
    "HomeSZNhPace = float(stats.loc['Denver Nuggets']['PACE'])\n",
    "HomeLast10hORTG = float(stats3.loc['Denver Nuggets']['OffRtg'])\n",
    "HomeLast10aDRTG = float(stats4.loc['Oklahoma City Thunder']['DefRtg'])\n",
    "h2hPaceTvN = float(statsTvN.loc['Oklahoma City Thunder']['PACE'])\n",
    "print('Nuggets Total')\n",
    "nuggetsTotal = ((((HomeSZNhORTG + HomeSZNaDRTG)/200)*HomeSZNhPace)+(((HomeLast10hORTG + HomeLast10aDRTG)/200)*h2hPaceTvN))/2\n",
    "print(nuggetsTotal)\n",
    "\n",
    "AwaySZNaORTG = float(stats2.loc['Oklahoma City Thunder']['OffRtg'])\n",
    "AwaySZNhDRTG = float(stats.loc['Denver Nuggets']['DefRtg'])\n",
    "AwaySZNaPace = float(stats2.loc['Oklahoma City Thunder']['PACE'])\n",
    "AwayLast10aORTG = float(stats4.loc['Oklahoma City Thunder']['OffRtg'])\n",
    "AwayLast10hDRTG = float(stats3.loc['Denver Nuggets']['DefRtg'])\n",
    "h2hPaceTvN = float(statsTvN.loc['Oklahoma City Thunder']['PACE'])\n",
    "print('Thunder Total')\n",
    "thunderTotal = ((((AwaySZNaORTG + AwaySZNhDRTG)/200)*AwaySZNaPace)+(((AwayLast10aORTG + AwayLast10hDRTG)/200)*h2hPaceTvN))/2\n",
    "print(thunderTotal)\n",
    "Total6 = nuggetsTotal + thunderTotal\n",
    "print('Total =')\n",
    "print(Total6)\n",
    "print('Under 225.5')\n",
    "print('OKC +15')\n",
    "print(\"actual 226, +15\")"
   ]
  }
 ],
 "metadata": {
  "kernelspec": {
   "display_name": "Python 3 (ipykernel)",
   "language": "python",
   "name": "python3"
  },
  "language_info": {
   "codemirror_mode": {
    "name": "ipython",
    "version": 3
   },
   "file_extension": ".py",
   "mimetype": "text/x-python",
   "name": "python",
   "nbconvert_exporter": "python",
   "pygments_lexer": "ipython3",
   "version": "3.9.7"
  }
 },
 "nbformat": 4,
 "nbformat_minor": 5
}
